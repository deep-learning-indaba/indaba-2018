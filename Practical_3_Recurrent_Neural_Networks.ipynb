{
 "cells": [
  {
   "cell_type": "markdown",
   "metadata": {
    "colab_type": "text",
    "id": "9jDBz0IbW3Xy"
   },
   "source": [
    "# Practical 3: Recurrent Neural Networks (RNNs)\n",
    "\n",
    "\n"
   ]
  },
  {
   "cell_type": "markdown",
   "metadata": {
    "colab_type": "text",
    "id": "-0F3Ao8BKa0g"
   },
   "source": [
    "## Introduction\n",
    "\n",
    "Feedforward models (eg deep MLPs and ConvNets) map fixed-size input-data (vectors of a fixed dimensionality) to their output labels. They're very powerful and have been successfully used for many tasks. However, a lot of data is not in the form of fixed-size vectors, but exists in the form of **sequences**. Language is one good example, where sentences are sequences of words. In some way, almost any data types can be considered as a sequence (for instance an image consists of a sequence of pixels, speech a sequence of phonemes, and so forth). \n",
    "\n",
    "Recurrent neural networks (**RNNs**) were designed to be able to handle sequential data, and in this practical we will take a closer look at RNNs and then build a model that can generate English sentences in the style of Shakespeare!"
   ]
  },
  {
   "cell_type": "markdown",
   "metadata": {
    "colab_type": "text",
    "id": "otAAvBVFSZy8"
   },
   "source": [
    "## Learning Objectives\n",
    "* Understand how RNNs model sequential data.\n",
    "* Understand how the vanilla RNN is a generalization of feedforward models to incorporate sequential dependencies.\n",
    "* Understand the issues involved when training RNNs.\n",
    "* Know how to implement an RNN for time-series estimation (**regression**) and an RNN language model (character-level **classification**) in Tensorflow using Keras."
   ]
  },
  {
   "cell_type": "markdown",
   "metadata": {
    "colab_type": "text",
    "id": "gfKcEFUxa--9"
   },
   "source": [
    "##Imports\n"
   ]
  },
  {
   "cell_type": "code",
   "execution_count": null,
   "metadata": {
    "colab": {
     "base_uri": "https://localhost:8080/",
     "height": 53
    },
    "colab_type": "code",
    "id": "h8glXxcyew17",
    "outputId": "c102ff05-fa6e-486d-ac0b-6fe4d919e701"
   },
   "outputs": [],
   "source": [
    "#@title Imports (RUN ME!) { display-mode: \"form\" }\n",
    "\n",
    "#!pip -q install pydot_ng\n",
    "#!pip -q install graphviz\n",
    "#!apt install graphviz > /dev/null\n",
    "\n",
    "from __future__ import absolute_import, division, print_function\n",
    "\n",
    "import numpy as np\n",
    "import tensorflow as tf\n",
    "import math\n",
    "import random\n",
    "import ssl\n",
    "import sys\n",
    "import urllib2\n",
    "from IPython import display\n",
    "import matplotlib.pyplot as plt\n",
    "%matplotlib inline\n",
    "\n",
    "print('Running TensorFlow version %s' % (tf.__version__))\n",
    "try:\n",
    "  tf.enable_eager_execution()\n",
    "  print('Eager mode activated.')\n",
    "except ValueError:\n",
    "  print('Already running in Eager mode')"
   ]
  },
  {
   "cell_type": "markdown",
   "metadata": {
    "colab_type": "text",
    "id": "yVL1OwL7aH8c"
   },
   "source": [
    "##From Feedforward to Recurrent Models\n",
    "\n",
    "### Intuition\n",
    "RNNs generalize feedforward networks (FFNs) to be able to work with sequential data. FFNs take an input (e.g. an image) and immediately produce an output (e.g. a digit class), something like this:"
   ]
  },
  {
   "cell_type": "code",
   "execution_count": null,
   "metadata": {
    "colab": {},
    "colab_type": "code",
    "id": "NqZsIaRU6-WK"
   },
   "outputs": [],
   "source": [
    "def ffn_forward(x, W_xh, W_ho, b_hid, b_out):\n",
    " \n",
    "    # Compute activations on the hidden layer.\n",
    "    hidden_layer = act_fn(np.dot(W_xh, x) + b_hid)\n",
    "    \n",
    "    # Compute the (linear) output layer activations.     \n",
    "    output = np.dot(W_ho, hidden_layer) + b_out\n",
    "    \n",
    "    return output"
   ]
  },
  {
   "cell_type": "markdown",
   "metadata": {
    "colab_type": "text",
    "id": "Kb3Tjms06_XL"
   },
   "source": [
    "**NOTE**: You don't have to run this cell, it's just shown to illustrate the point.\n",
    "\n",
    "RNNs, on the other hand, consider the data sequentially and remember what they have seen in the past in order to make new predictions about the future observations, something like this:\n"
   ]
  },
  {
   "cell_type": "code",
   "execution_count": null,
   "metadata": {
    "colab": {},
    "colab_type": "code",
    "id": "ACx_wHGB7AWc"
   },
   "outputs": [],
   "source": [
    "def rnn_forward(data_sequence, initial_state):\n",
    "\n",
    "    state = initial_state  # Reused at every time-step\n",
    "    all_states, all_ys = [state], []  # Used to save all states and predictions\n",
    "\n",
    "    for x, y in data_sequence:\n",
    "      \n",
    "      # recurrent_fn() takes the current input and the previous state and produces a new state\n",
    "      new_state, y_pred = recurrent_fn(x, state)\n",
    "      \n",
    "      all_states.append(new_state)\n",
    "      all_ys.append(y_pred)\n",
    "      \n",
    "      # Update state for the next time-step\n",
    "      state = new_state\n",
    "\n",
    "    return all_states, all_ys"
   ]
  },
  {
   "cell_type": "markdown",
   "metadata": {
    "colab_type": "text",
    "id": "-Crh_ViE7Ave"
   },
   "source": [
    "To understand the distinction between FFNs and RNNs, imagine we want to label words as the part-of-speech categories that they belong to: E.g. for the input sentence \"I want a duck\" and \"He had to duck\", we want our model to predict that duck is a `Noun` in the first sentence and a `Verb` in the second. To do this successfully, the model needs to be aware of the surrounding context. However, if we feed a FFN model only one word at a time, how could it know the difference? If we want to feed it all the words at once, how do we deal with the fact that sentences are of different lengths?\n",
    "\n",
    "RNNs solve this issue by processing the sentence word-by-word, and maintaining an internal **state** summarizing what it has seen so far. This applies not only to words, but also to phonemes in speech, or even, as we will see, elements of a time-series.\n",
    "\n"
   ]
  },
  {
   "cell_type": "markdown",
   "metadata": {
    "colab_type": "text",
    "id": "zUqww79L6Ot-"
   },
   "source": [
    "### Unrolling the network\n",
    "\n",
    "Imagine we are trying to classify sequences $X = (x_1, x_2, \\ldots, x_N)$ into labels $y$ (for now, let's keep it abstract). After running the `rnn_forward()` function of our RNN defined above on $X$, we would have a list of internal states and outputs of the model at each sequence position. This process is called **unrolling in time**, because you can think of it as unrolling the *computations* defined by the RNN loop over the inputs at each position of the sequence.  RNNs are often used to model **time series data** (which we will do in this practical), and therefore these positions are referred to as **time-steps**, and hence we call this process \"unrolling over time\".\n",
    "\n",
    "**TODO(sgouws)**: include graph to display this, e.g. http://d3kbpzbmcynnmx.cloudfront.net/wp-content/uploads/2015/09/rnn.jpg\n",
    "\n",
    "> **We can therefore think of an RNN as a composition of identical feedforward neural networks (with replicated/tied weights), one for each moment or step in time. **\n",
    "\n",
    "These feedforward functions that make up the RNN(i.e. our `recurrent_fn` above) are typically referred to as **cells**, and the only restriction on its API is that the cell function needs to be a differentiable function that can map an input and a state vector to an output and a new state vector. What we have shown above is called the **vanilla RNN**, but there are many more possibilities. One of the most popular variants is called the **Long Short-Term Memory (LSTM)** cell, which we'll use later to create our Shakespeare language model.\n",
    "\n",
    "### Putting this together \n",
    "\n",
    "In the feedforward models we've seen before, the input $x$ is mapped to an intermediate hidden layer $h$ as follows:\n",
    "\n",
    "\\begin{equation}\n",
    "  h = \\sigma(\\underbrace{W_{xh}x}_\\text{current input (per-example)} + b)\n",
    "\\end{equation}\n",
    "\n",
    "where $\\sigma$ is some non-linear activation function like ReLU or tanh.  We can then make a prediction $\\hat{y} = \\sigma(W_{hy}h + b)$ based on $h$, or we can add another layer, etc.\n",
    "\n",
    "RNNs generalize this idea to a sequence of inputs $X = {x_1, x_2, ...}$ by maintaining a sequence of state vectors $h_t$, one for every time-step $t$, as follows:\n",
    "\n",
    "\\begin{equation}\n",
    "  h_t = \\sigma(\\underbrace{W_{hh}h_{t-1}}_\\text{previous state} + \\underbrace{W_{xh}x_t}_\\text{current input (per time-step)} + b)\n",
    "\\end{equation}\n",
    "\n",
    "We can again use each $h_t$ to predict an output for that time-step $y_t = \\sigma(W_{hy}h_t + b)$ (e.g. the part-of-speech of each word in a sentence), or we can just make one final prediction at the end using $h_T$ (e.g. the topic of a document processed as a sequence of words).\n",
    "\n",
    "**NOTE**: The weight subscript $W_{xz}$ is used to indicate a mapping from layer $x$ to layer $z$.\n",
    "\n",
    "**QUESTIONS**\n",
    "* How are FFNs and RNNs **similar**?\n",
    "* How are they **different**?\n",
    "* Why do we call RNNs \"recurrent\"?"
   ]
  },
  {
   "cell_type": "markdown",
   "metadata": {
    "colab_type": "text",
    "id": "9wuobtH3aB59"
   },
   "source": [
    "##Modeling General Time-Series\n",
    "\n",
    "We will train an RNN to model a time-series as a first step. A **time-series** is a series of data-points ordered over discrete time-steps. Examples include the hourly temperature of Stellenbosch over a month or a year, the market price of some asset (like a company's stock) over time, and so forth. We will generate a **sinusoidal time-series** (with or without noise) as a toy example, and then train a tiny RNN model with only 5 parameters on this data."
   ]
  },
  {
   "cell_type": "markdown",
   "metadata": {
    "colab_type": "text",
    "id": "oAQIXUL-oje2"
   },
   "source": [
    "###Create some artificial data"
   ]
  },
  {
   "cell_type": "code",
   "execution_count": null,
   "metadata": {
    "colab": {
     "base_uri": "https://localhost:8080/",
     "height": 246
    },
    "colab_type": "code",
    "id": "412j4v-RIfYR",
    "outputId": "b1b1d64f-630e-411e-f973-f7e7554f044e"
   },
   "outputs": [],
   "source": [
    "#@title Create sinusoidal data {run: \"auto\"}\n",
    "steps_per_cycle = 20 #@param { type: \"slider\", min:1, max:100, step:1 }\n",
    "number_of_cycles = 176 #@param { type: \"slider\", min:1, max:1000, step:1 }\n",
    "noise_factor = 0.1 #@param { type: \"slider\", min:0, max:1, step:0.1 }\n",
    "plot_num_cycles = 23 #@param { type: \"slider\", min:1, max:50, step:1 }\n",
    "\n",
    "seq_len = steps_per_cycle * number_of_cycles\n",
    "t = np.arange(seq_len)\n",
    "sin_t_noisy = np.sin(2 * np.pi / steps_per_cycle * t + noise_factor * np.random.uniform(-1.0, +1.0, seq_len))\n",
    "sin_t_clean = np.sin(2 * np.pi / steps_per_cycle * t)\n",
    "\n",
    "upto = plot_num_cycles * steps_per_cycle\n",
    "fig = plt.figure(figsize=(15,3))\n",
    "plt.plot(t[:upto], sin_t_noisy[:upto])\n",
    "plt.title(\"Showing first {} cycles.\".format(plot_num_cycles))\n",
    "plt.show()\n",
    "\n",
    "#both = np.column_stack((t, sin_t_noisy))\n",
    "#print(\"both.shape = {}\".format(both.shape))\n",
    "\n",
    "#print(\"both[:steps_per_cycle, :steps_per_cycle]\")\n",
    "#print(both[:steps_per_cycle,:steps_per_cycle])"
   ]
  },
  {
   "cell_type": "markdown",
   "metadata": {
    "colab_type": "text",
    "id": "Eaypg9gKos21"
   },
   "source": [
    "**TASK**: Adjust the parameters above to generate data with different properties.\n",
    "\n",
    "Now we pack the data into train and test batches. Note that while RNNs can in theory learn the dependencies across all inputs received so far (using an algorithm called **backpropagation through time**, or BPTT; see the Aside box below), in practice they are trained using an algorithm called **truncated BPTT** where we truncate the inputs to only the last $T$ symbols (this is the `truncated_seq_len` variable below).\n",
    "\n",
    "**QUESTION**: What are the pros and cons of truncating the training data in this way?"
   ]
  },
  {
   "cell_type": "code",
   "execution_count": null,
   "metadata": {
    "cellView": "both",
    "colab": {
     "base_uri": "https://localhost:8080/",
     "height": 71
    },
    "colab_type": "code",
    "id": "RtwMLLCNorw4",
    "outputId": "b21cacaf-acbb-4d67-dc56-a4ac6c2d1339"
   },
   "outputs": [],
   "source": [
    "#@title Pack truncated sequence data {run: \"auto\"}\n",
    "\n",
    "def pack_truncated_data(data, num_prev = 100):  \n",
    "    X, Y = [], []\n",
    "    for i in range(len(data) - num_prev):\n",
    "      X.append(data[i : i + num_prev])\n",
    "      Y.append(data[i + num_prev])\n",
    "    # NOTE: Keras expects input data in the shape (batch_size, truncated_seq_len, input_dim)\n",
    "    # We have only one real-valued number per time-step, so we therefore expand \n",
    "    # the last dimension from (batch_size, truncated_seq_len) to \n",
    "    # (batch_size, truncated_seq_len, 1).\n",
    "    X, Y = np.array(X)[:,:,np.newaxis], np.array(Y)[:,np.newaxis]\n",
    "    return X, Y\n",
    "\n",
    "# We only consider this many previous data points\n",
    "truncated_seq_len = 2 #@param { type: \"slider\", min:1, max:10, step:1 }\n",
    "test_split = 0.25  # Fraction of total data to keep out as test data\n",
    "\n",
    "# We use only the sin(t) values, and discard the time values\n",
    "data = sin_t_noisy\n",
    "data_len = data.shape[0]\n",
    "num_train = int(data_len * (1 - test_split))\n",
    "\n",
    "train_data = data[:num_train]\n",
    "test_data = data[num_train:]\n",
    "\n",
    "X_train, y_train = pack_truncated_data(train_data, num_prev=truncated_seq_len)\n",
    "X_test, y_test = pack_truncated_data(test_data, num_prev=truncated_seq_len)  \n",
    "\n",
    "print(\"Generated training/test data with shapes\\nX_train: {}, y_train: {}\\nX_test: {}, y_test: {}. \".format(\n",
    "    X_train.shape, y_train.shape, X_test.shape, y_test.shape))\n"
   ]
  },
  {
   "cell_type": "markdown",
   "metadata": {
    "colab_type": "text",
    "id": "vgVxLBp8CaN6"
   },
   "source": [
    "**NOTE**: We reshape the training data into (batch_size, truncated_seq_len, 1) and (batch_size, 1) arrays."
   ]
  },
  {
   "cell_type": "markdown",
   "metadata": {
    "colab_type": "text",
    "id": "xiUrsPAI36M-"
   },
   "source": [
    "### Intermediate Aside: (Truncated) Backpropagation-through-Time and Vanishing and Exploding Gradients"
   ]
  },
  {
   "cell_type": "markdown",
   "metadata": {
    "colab_type": "text",
    "id": "SCJlN3O11pr1"
   },
   "source": [
    "RNNs model sequential data, and are designed to capture how ***outputs*** at the current time step are influenced by the ***inputs*** that came before them. This is referred to as **long-range dependencies**. At a high level, this allows the model to remember what it has seen so far in order to better contextualize what it is seeing at the moment (think about how knowing the context of the sentence or conversation can sometimes help one to better figure out the intended meaning of a misheard word or ambiguous statement). It is what makes these models so powerful, but it is also what makes them so hard to train!\n",
    "\n",
    "The most well-known algorithm for training RNNs is called **back-propagation through time (BPTT**; there are other algorithms). BPTT conceptually amounts to unrolling the computations of the RNN over time, computing the errors, and backpropagating the gradients through the unrolled graph structure.  Ideally we want to unroll the graph up to the maximum sequence length, however in practice, since sequence lengths vary and memory is limited, we only end up unrolling sequences up to some length $T$. This is called **truncated BPTT**, and is the most used variant of BPTT.\n",
    "\n",
    "At a high level, there are two main issues when using (truncated) BPTT to train RNNs:\n",
    "\n",
    "* Having shared (\"tied\") recurrent weights ($W_{hh}$) mean that **the gradient on these weights at some time step $t$ depends on all time steps up to time-step $T$**, the length of the full (truncated) sequence. This also leads to the **vanishing/exploding gradients** problem.\n",
    "\n",
    "* **Memory usage grows linearly with the total number of steps $T$ that we unroll for**, because we need to save/cache the activations at each time-step (look at the Python code above to convince yourself of this).  This matters computationally, since memory is a limited resource. It also matters statistically, because it puts a limit on the types of dependencies the model is exposed to, and hence that it could learn.\n",
    "\n",
    "**NOTE**: Think about that last statement and make sure you understand those 2 points.\n",
    "\n",
    "BPTT is very similar to the standard back-propagation algorithm. Key to understanding the BPTT algorithm is to realize that gradients on the non-recurrent weights (weights of a per time-step classifier that tries to predict the part-of-speech tag for each word for example) and recurrent weights (that transform $h_{t-1}$ into $h_t$) are computed differently:\n",
    "\n",
    "* The gradients of **non-recurrent weights** ($W_{hy}$) depend only on the error at that time-step, $E_t$.\n",
    "* The gradients of **recurrent weights** ($W_{hh}$) depend on all previous time-steps up to maximum length $T$.\n",
    "\n",
    "The first point is fairly intuitive: predictions at time-step $t$ is related to the loss of that particular prediction. \n",
    "\n",
    "The second point will be explained in more detail in the lectures (see also [this great blog post](http://www.wildml.com/2015/10/recurrent-neural-networks-tutorial-part-3-backpropagation-through-time-and-vanishing-gradients/)), but briefly, this can be summarized in these equations:\n",
    "\n",
    "1. The **current** state is a function of the **previous** state and the current input: $h_t = \\sigma(W_{hh}h_{t-1} + W_{xh}x_t)$\n",
    "2. The gradient of the loss $E_t$ at time $t$ on $W_{hh}$ is a function of the current hidden state and model predictions $\\hat{y}_t$ at time t: \n",
    "$\\frac{\\partial E_t}{\\partial W_{hh}} = \\frac{\\partial E_t}{\\partial \\hat{y}_t}\\frac{\\partial\\hat{y}_t}{\\partial h_t}\\frac{\\partial h_t}{\\partial W_{hh}}$\n",
    "3. Substituting (1) into (2) results in a **sum over all previous time-steps**:\n",
    "$\\frac{\\partial E_t}{\\partial W_{hh}} = \\sum\\limits_{k=0}^{t} \\underbrace{\\frac{\\partial E_t}{\\partial \\hat{y}_t}\\frac{\\partial\\hat{y}_t}{\\partial h_t}\\frac{\\partial h_t}{\\partial h_k}\\frac{\\partial h_k}{\\partial W_{hh}}}_\\text{product of gradient terms}$\n",
    "\n",
    "Because of this **repeated multiplicative interaction**, as the sequence length $t$ gets longer, the gradients themselves can get diminishingly small (**vanish**) or grow too large and result in numeric overflow (**explode**). This has been shown to be related to the norms of the recurrent weight matrices being less than or equal to 1. Intuitively, it works very similar to how multiplying a small number $v<1.0$ with itself repeatedly can quickly go to zero, or conversely, a large number $v>1.0$ could quickly go to infinity; only this is for matrices.\n"
   ]
  },
  {
   "cell_type": "markdown",
   "metadata": {
    "colab_type": "text",
    "id": "-o3qjqeZpLjN"
   },
   "source": [
    "###Build a tiny RNN in Keras\n",
    "\n",
    "Building an RNN in Keras is quite simple. We simply chain the layers together as follows:"
   ]
  },
  {
   "cell_type": "code",
   "execution_count": null,
   "metadata": {
    "colab": {},
    "colab_type": "code",
    "id": "mEobTD6spOWx"
   },
   "outputs": [],
   "source": [
    "def define_model(truncated_seq_len):  \n",
    "    \n",
    "    input_dimension = 1\n",
    "    hidden_dimension = 1\n",
    "    output_dimension = 1\n",
    "    \n",
    "    model = tf.keras.models.Sequential()\n",
    "    model.add(tf.keras.layers.SimpleRNN(\n",
    "        # We need to specify the input_shape *without* leading batch_size (it is inferred)\n",
    "        input_shape=(truncated_seq_len, input_dimension),\n",
    "        units=hidden_dimension, \n",
    "        return_sequences=False,\n",
    "        name='hidden_layer'))\n",
    "    model.add(tf.keras.layers.Dense(\n",
    "        output_dimension, \n",
    "        name='output_layer'))\n",
    "\n",
    "    model.compile(loss=\"mean_squared_error\", \n",
    "                  optimizer=tf.train.AdamOptimizer(learning_rate=1e-3))\n",
    "    \n",
    "    return model\n"
   ]
  },
  {
   "cell_type": "markdown",
   "metadata": {
    "colab_type": "text",
    "id": "JHRscZaQze26"
   },
   "source": [
    "**NOTE**: We're building an RNN for **regression**. We therefore use a linear layer (which outputs real-valued numbers) at the output with the \"*mean_squared_error*\" loss function."
   ]
  },
  {
   "cell_type": "code",
   "execution_count": null,
   "metadata": {
    "colab": {
     "base_uri": "https://localhost:8080/",
     "height": 215
    },
    "colab_type": "code",
    "id": "ONvBy4AopTrF",
    "outputId": "4cff0a47-5688-457a-c071-a5458decf8f6"
   },
   "outputs": [],
   "source": [
    "model = define_model(truncated_seq_len = X_train.shape[1])\n",
    "model.summary()"
   ]
  },
  {
   "cell_type": "markdown",
   "metadata": {
    "colab_type": "text",
    "id": "ddb6_04dfZvn"
   },
   "source": [
    "**NOTE**: You need to re-run the above cell every time after training to reset the model weights!"
   ]
  },
  {
   "cell_type": "markdown",
   "metadata": {
    "colab_type": "text",
    "id": "hD94X5iQc8Jg"
   },
   "source": [
    "###Train the tiny RNN\n",
    "Now let's train the model. This may take a few minutes (it takes much longer if you increase `truncated_seq_len`). Set `verbose=1` **before** you run the cell to see the intermediate output as the model is training. Set it to 0 if you don't want any output."
   ]
  },
  {
   "cell_type": "code",
   "execution_count": null,
   "metadata": {
    "colab": {},
    "colab_type": "code",
    "id": "xvahCyhk7Wvr"
   },
   "outputs": [],
   "source": [
    "''' SOLUTION TO ONE OF TASKS [DELETE]\n",
    "patience = 5\n",
    "train_history = model.fit(X_train, y_train, batch_size=600, epochs=1000, \n",
    "                          verbose=1, validation_split=0.05,\n",
    "                          callbacks=[tf.keras.callbacks.EarlyStopping(monitor='val_loss', patience=patience, verbose=1)])\n",
    "'''"
   ]
  },
  {
   "cell_type": "code",
   "execution_count": null,
   "metadata": {
    "colab": {
     "base_uri": "https://localhost:8080/",
     "height": 36035
    },
    "colab_type": "code",
    "id": "xumvRz2lrPus",
    "outputId": "39973883-59f5-4233-8f02-83f902e0dc35"
   },
   "outputs": [],
   "source": [
    "train_history = model.fit(X_train, y_train, batch_size=600, epochs=1000, \n",
    "                          verbose=1, validation_split=0.05)"
   ]
  },
  {
   "cell_type": "markdown",
   "metadata": {
    "colab_type": "text",
    "id": "CebcKzSW_g6P"
   },
   "source": [
    "Let's visualize the training and validation losses."
   ]
  },
  {
   "cell_type": "code",
   "execution_count": null,
   "metadata": {
    "colab": {
     "base_uri": "https://localhost:8080/",
     "height": 369
    },
    "colab_type": "code",
    "id": "U9G1OHXoroBs",
    "outputId": "d0ba7ee2-92b9-4eda-87c0-11b40ce83449"
   },
   "outputs": [],
   "source": [
    "plt.figure(figsize=(15,5))\n",
    "\n",
    "for label in [\"loss\",\"val_loss\"]:\n",
    "    plt.plot(train_history.history[label], label=label)\n",
    "\n",
    "plt.ylabel(\"loss\")\n",
    "plt.xlabel(\"epoch\")\n",
    "plt.title(\"The final validation loss: {}\".format(train_history.history[\"val_loss\"][-1]))\n",
    "plt.legend()\n",
    "plt.show()"
   ]
  },
  {
   "cell_type": "markdown",
   "metadata": {
    "colab_type": "text",
    "id": "Rs_-XnYhKl_N"
   },
   "source": [
    "Finally, let's look at the parameters for the trained model."
   ]
  },
  {
   "cell_type": "code",
   "execution_count": null,
   "metadata": {
    "colab": {
     "base_uri": "https://localhost:8080/",
     "height": 73
    },
    "colab_type": "code",
    "id": "q4gtwBT7Kgh0",
    "outputId": "c212be9b-bd62-41cf-9163-33f69e306d95"
   },
   "outputs": [],
   "source": [
    "for layer in model.layers:\n",
    "  print(\"{}, {}\".format(layer.name, layer.get_weights()))"
   ]
  },
  {
   "cell_type": "markdown",
   "metadata": {
    "colab_type": "text",
    "id": "bqFBu_dCsUqi"
   },
   "source": [
    "**QUESTION**: \n",
    "* Relate the above weights to the terms in the equation for the vanilla RNN we saw earlier, namely:\n",
    "  * input-to-hidden $W_{xh}$,\n",
    "  * hidden-to-hidden $W_{hh}$,\n",
    "  * hidden-to-output weights $W_{hy}$\n",
    "  * recurrent and out biases."
   ]
  },
  {
   "cell_type": "markdown",
   "metadata": {
    "colab_type": "text",
    "id": "0FHaN-VXfxEl"
   },
   "source": [
    "###Make predictions using the trained model"
   ]
  },
  {
   "cell_type": "code",
   "execution_count": null,
   "metadata": {
    "colab": {
     "base_uri": "https://localhost:8080/",
     "height": 231
    },
    "colab_type": "code",
    "id": "IQl_msx-4o3E",
    "outputId": "7c2ac8d5-231f-47af-d227-092510c058ff"
   },
   "outputs": [],
   "source": [
    "y_pred = model.predict(X_test[:100])\n",
    "plt.figure(figsize=(19,3))\n",
    "\n",
    "plt.plot(y_test[:100], label=\"true\")\n",
    "plt.plot(y_pred, label=\"predicted\")\n",
    "plt.legend()\n",
    "plt.show()"
   ]
  },
  {
   "cell_type": "markdown",
   "metadata": {
    "colab_type": "text",
    "id": "MQj5P-FKOgqG"
   },
   "source": [
    "**YOUR TASKS**: \n",
    "* [**ALL**] Change the learning rate and retrain. What happens when it is too large? What happens when it is too small?\n",
    "* [**ALL**] Change the `SimpleRNN` to `GRU`.\n",
    "  * What is the effect on the number of parameters? Can you explain why? Now do the same for `LSTM`.\n",
    "* [**INTERMEDIATE**] Note that the loss does not decrease much after around epoch 400. Add \"Early Stopping with patience\" to the `model.fit()` function to stop it from training beyond this point. **Hint**: Look at tf.keras.callbacks.\n",
    "  * *Early stopping* is a technique where we stop training the model once it's performance on validation data stops improving. Early stopping *with patience* means as soon as the model starts doing worse on validation we wait for at least `patience` more evaluations before stopping training, and if it improves within that time, we reset the counter. It's a way to avoid stopping too early.\n"
   ]
  },
  {
   "cell_type": "markdown",
   "metadata": {
    "colab_type": "text",
    "id": "_totIpxmZ8_v"
   },
   "source": [
    "##Generating Shakespeare\n",
    "\n",
    "Now let's build an RNN language model to generate Shakespearian English! A language model is trained to assign high probabilities to sequences of words or sentences that are well formed, and low probabilities to sequences which are not realistic. When the model is trained, one can use it to *generate* data that is similar to the training data.\n",
    "\n",
    "Our data is now sequences of discrete symbols (characters). But neural networks operate in continuous spaces, and so we need to take the discrete language data, and **embed** it in a continuous space. To do this, we'll simply break up the data into sequences of characters, and represent each character using a learned vector. This is a standard trick for processing text using neural networks. "
   ]
  },
  {
   "cell_type": "markdown",
   "metadata": {
    "colab_type": "text",
    "id": "9dFQtnDLZa3c"
   },
   "source": [
    "### Download and Preprocess the Data"
   ]
  },
  {
   "cell_type": "markdown",
   "metadata": {
    "colab_type": "text",
    "id": "Tmmjc-EigwCw"
   },
   "source": [
    "We first download the data and examine what it looks like:"
   ]
  },
  {
   "cell_type": "code",
   "execution_count": null,
   "metadata": {
    "colab": {
     "base_uri": "https://localhost:8080/",
     "height": 791
    },
    "colab_type": "code",
    "id": "hybIopOLPD4f",
    "outputId": "eded9c5c-2ece-4774-b207-8990b931f782"
   },
   "outputs": [],
   "source": [
    "context = ssl._create_unverified_context()\n",
    "shakespeare_url = 'https://cs.stanford.edu/people/karpathy/char-rnn/shakespeare_input.txt'\n",
    "\n",
    "data = urllib2.urlopen(shakespeare_url, context=context)\n",
    "all_text = data.read().lower()\n",
    "\n",
    "print(\"Downloaded Shakespeare data with {} characters.\".format(len(all_text)))\n",
    "print(\"FIRST 1000 CHARACTERS: \")\n",
    "print(all_text[:1000])"
   ]
  },
  {
   "cell_type": "code",
   "execution_count": null,
   "metadata": {
    "colab": {},
    "colab_type": "code",
    "id": "jIuagNcdQLqM"
   },
   "outputs": [],
   "source": [
    "training_text = all_text[:1000000] # Keep only the first 1 million characters"
   ]
  },
  {
   "cell_type": "markdown",
   "metadata": {
    "colab_type": "text",
    "id": "UK1x69AngvLJ"
   },
   "source": [
    "We now preprocess the text data as follows:\n",
    "\n",
    "1. Extract the vocabulary of all `vocab_size` unique characters appearing in the data.\n",
    "\n",
    "2. Assign each character a unique integer id in `0 <= id < vocab_size`. This is so we can map the characters to unique embedding vectors.\n",
    "\n",
    "3. Split the data into sequences (\"windows\") of `max_len` characters (the input to the model) followed by the next character as target. E.g. using `max_len=5` the sentence \"I saw a cat\" (11 characters) will get split into \"I saw\" and /space/, \"/space/saw/space/\" and \"a\", \"saw a\" and /space/, etc. To add some variation, we skip `step` characters between each sequence (i.e. we use a \"sliding window of `max_len` with stride `step`\")."
   ]
  },
  {
   "cell_type": "code",
   "execution_count": null,
   "metadata": {
    "colab": {
     "base_uri": "https://localhost:8080/",
     "height": 73
    },
    "colab_type": "code",
    "id": "zPvsNXKZPJKz",
    "outputId": "1dcaaa7f-b946-4f8d-cb1b-32674b125465"
   },
   "outputs": [],
   "source": [
    "max_len = 30  # We only consider this many previous data points (characters)\n",
    "step = 3 # We start a new training sequence every `step` characters\n",
    "sentences = [] # This holds our extracted sequences\n",
    "next_chars = [] # This holds the targets (the follow-up characters)\n",
    "\n",
    "chars = sorted(list(set(training_text)))  # List of unique characters in the corpus\n",
    "vocab_size = len(chars)\n",
    "print('Number of unique characters: ', vocab_size)\n",
    "print(chars)\n",
    "\n",
    "# Construct dictionaries mapping unique characters to their index in `chars` and reverse\n",
    "char2index = dict((c, chars.index(c)) for c in chars)\n",
    "index2char = dict((chars.index(c), c) for c in chars)"
   ]
  },
  {
   "cell_type": "markdown",
   "metadata": {
    "colab_type": "text",
    "id": "O2PhcQwrc2JX"
   },
   "source": [
    "Now we encode the training data by mapping each character to its unique integer id."
   ]
  },
  {
   "cell_type": "code",
   "execution_count": null,
   "metadata": {
    "colab": {
     "base_uri": "https://localhost:8080/",
     "height": 35
    },
    "colab_type": "code",
    "id": "xY0qXZmVq8kW",
    "outputId": "89446005-6eba-42da-fce5-8bcfb723a567"
   },
   "outputs": [],
   "source": [
    "for i in range(0, len(training_text) - max_len, step):\n",
    "    sentences.append([char2index[s] for s in training_text[i: i + max_len]])\n",
    "    next_chars.append([char2index[s] for s in training_text[i + max_len]])\n",
    "\n",
    "print('Number of extracted sequences:', len(sentences))"
   ]
  },
  {
   "cell_type": "markdown",
   "metadata": {
    "colab_type": "text",
    "id": "PsZy6Kshc-Sp"
   },
   "source": [
    "This yields the following numpy arrays:"
   ]
  },
  {
   "cell_type": "code",
   "execution_count": null,
   "metadata": {
    "colab": {
     "base_uri": "https://localhost:8080/",
     "height": 35
    },
    "colab_type": "code",
    "id": "vhgSaP5ntDtq",
    "outputId": "2af89a0d-e7e3-4744-8d8d-aa9ec1ab9293"
   },
   "outputs": [],
   "source": [
    "X, Y = np.array(sentences, dtype=np.int64), np.array(next_chars, dtype=np.int64)\n",
    "X.shape, Y.shape"
   ]
  },
  {
   "cell_type": "markdown",
   "metadata": {
    "colab_type": "text",
    "id": "sBR2LsXjmqTU"
   },
   "source": [
    "Let's take a look at the first example."
   ]
  },
  {
   "cell_type": "code",
   "execution_count": null,
   "metadata": {
    "colab": {
     "base_uri": "https://localhost:8080/",
     "height": 89
    },
    "colab_type": "code",
    "id": "2H1jobcrmwK7",
    "outputId": "3826ee10-ca7f-466f-c0f4-5ab37ef7aab7"
   },
   "outputs": [],
   "source": [
    "print(\"X[0].shape = {}, Y[0].shape = {}\".format(X[0].shape, Y[0].shape))\n",
    "print(\"X[0]: \", X[0])\n",
    "print(\"Y[0]: \", Y[0])"
   ]
  },
  {
   "cell_type": "markdown",
   "metadata": {
    "colab_type": "text",
    "id": "tEQWEZlSZgpF"
   },
   "source": [
    "###Build an RNN language model"
   ]
  },
  {
   "cell_type": "markdown",
   "metadata": {
    "colab_type": "text",
    "id": "rCysOLWadPHF"
   },
   "source": [
    "A **language model** estimates a probability distribution over sequences $\\mathbb{x}_{1:N} = (x_1, x_2, ..., x_N)$ by breaking up the full joint probability into a sequence of conditional probabilities using the **[chain-rule of probability](https://en.wikipedia.org/wiki/Chain_rule_(probability))**:\n",
    "\n",
    "\\begin{align}\n",
    " p(\\mathbb{x}_{1:N}) &= p(x_1) \\cdot p(x_2 | x_1) \\cdot p(x_3 | x_2, x_1) \\ldots \\\\\n",
    " &= \\Pi_1^N p(x_i | \\mathbb{x}_{1:i-1})\n",
    "\\end{align}\n",
    "\n",
    "In other words, to model the probability of the phrase \"*i saw a cat*\" at the character level, the model learns to estimate the probabilities for p(i), p(/space/| i), p(c | i, /space/), and so forth, and multiplies them together. \n",
    "\n",
    "There are many different ways in which to estimate these individual probabilities. But one particularly effective way is to use an RNN! To do this, we'll therefore be modeling the  $p(x_i | \\mathbb{x}_{1:i-1})$ terms using an RNN conditioned on $\\mathbb{x}_{1:i-1}$.\n",
    "\n",
    "* We model these probabilities at the character-level, so we'll use an `Embedding` layer as the first layer of our model to map the discrete character id's to real-valued embedding vectors. \n",
    "* Next, the RNN-core will map these sequences of character embeddings to a probability distribution over all characters $p(x_i | \\mathbb{x}_{1:i-1}) \\in \\mathbb{R}^\\textrm{vocab_size}$ at every step of the sequence. To do this, the RNN will map the embeddings to a sequence of *hidden states*. We will then use a `Dense` layer to map from the RNN hidden state to an output distribution over the total number of characters using a [`softmax`](https://en.wikipedia.org/wiki/Softmax_function) activation.\n",
    "\n",
    "We can do this with a few lines of code:"
   ]
  },
  {
   "cell_type": "code",
   "execution_count": null,
   "metadata": {
    "colab": {
     "base_uri": "https://localhost:8080/",
     "height": 251
    },
    "colab_type": "code",
    "id": "k8AxhQuePOCN",
    "outputId": "35b12bba-5085-487e-8f08-83d149261ca1"
   },
   "outputs": [],
   "source": [
    "embedding_dim = 32   # Map each character to a unique vector of this dimension\n",
    "vocab_size = len(chars)\n",
    "\n",
    "model = tf.keras.models.Sequential()\n",
    "model.add(tf.keras.layers.Embedding(\n",
    "  vocab_size, embedding_dim, \n",
    "  input_length=max_len, \n",
    "  embeddings_initializer=tf.keras.initializers.TruncatedNormal))\n",
    "model.add(tf.keras.layers.LSTM(\n",
    "  128, \n",
    "  input_shape=(max_len, embedding_dim),  # NB: Ensure this matches the embedding_dim!\n",
    "  dropout=0.1,  # input-to-hidden drop-probability\n",
    "  recurrent_dropout=0.2))  # hidden-to-hidden drop-probability\n",
    "model.add(tf.keras.layers.Dense(vocab_size, activation='softmax'))\n",
    "\n",
    "model.summary()"
   ]
  },
  {
   "cell_type": "markdown",
   "metadata": {
    "colab_type": "text",
    "id": "m4fFjFtZokf2"
   },
   "source": [
    "###Select the optimizer and loss"
   ]
  },
  {
   "cell_type": "markdown",
   "metadata": {
    "colab_type": "text",
    "id": "RHOWm55whZUt"
   },
   "source": [
    "Once we have a model that can map sequence of characters to a probability distribution over the next character in the sequence, we can train it using **maximum likelihood** on the training set to find the model parameters which maximizes the probability of the training data. Again, this is very simple to do by choosing an optimizer and selecting the `sparse_categorical_crossentropy` loss function:"
   ]
  },
  {
   "cell_type": "code",
   "execution_count": null,
   "metadata": {
    "colab": {},
    "colab_type": "code",
    "id": "hKJNZXs7PSW-"
   },
   "outputs": [],
   "source": [
    "optimizer = tf.train.AdamOptimizer(learning_rate=0.001)\n",
    "loss='sparse_categorical_crossentropy'\n",
    "\n",
    "model.compile(loss=loss, optimizer=optimizer)"
   ]
  },
  {
   "cell_type": "markdown",
   "metadata": {
    "colab_type": "text",
    "id": "dEr9hEqFiGx6"
   },
   "source": [
    "###Helper functions"
   ]
  },
  {
   "cell_type": "code",
   "execution_count": null,
   "metadata": {
    "colab": {},
    "colab_type": "code",
    "id": "3zXa95pBPUw3"
   },
   "outputs": [],
   "source": [
    "def sample_with_temp(preds, temperature=1.0):\n",
    "  preds = np.asarray(preds).astype('float64')\n",
    "  preds = np.log(preds) / temperature\n",
    "  exp_preds = np.exp(preds)\n",
    "  preds = exp_preds / np.sum(exp_preds)\n",
    "  probas = np.random.multinomial(1, preds, 1)\n",
    "  return np.argmax(probas)"
   ]
  },
  {
   "cell_type": "code",
   "execution_count": null,
   "metadata": {
    "colab": {
     "base_uri": "https://localhost:8080/",
     "height": 53
    },
    "colab_type": "code",
    "id": "AyH6U3er5fis",
    "outputId": "c7d6e470-604f-4b85-e6bd-433f88e0069e"
   },
   "outputs": [],
   "source": [
    "def shift_and_append(test_arr, next_item):\n",
    "  '''Returns a copy of test_arr with items shifted one position to the left and \n",
    "     next_item appended.\n",
    "  '''\n",
    "  tmp = np.empty_like(test_arr)\n",
    "  tmp[:,:-1] = test_arr[:,1:]\n",
    "  tmp[:,-1] = next_item\n",
    "  return tmp\n",
    "\n",
    "## TEST the above function:\n",
    "test_arr = np.array([[1,2,3,4]])\n",
    "\n",
    "print(\"test_arr = {}\".format(test_arr))\n",
    "test_arr = shift_and_append(test_arr, 5)\n",
    "print(\"roll_arr(test_arr, 5) = {}\".format(test_arr))"
   ]
  },
  {
   "cell_type": "code",
   "execution_count": null,
   "metadata": {
    "colab": {},
    "colab_type": "code",
    "id": "q9le2p0YxeYD"
   },
   "outputs": [],
   "source": [
    "def sample_from_model(model, \n",
    "                      num_generate=400, \n",
    "                      prev_text=None,  # the text used to condition the model\n",
    "                      temperatures=[0.2, 0.5, 1.0, 1.2]):\n",
    "    \n",
    "    if not prev_text:\n",
    "      # Select a text seed at random\n",
    "      start_index = random.randint(0, len(training_text) - max_len - 1)\n",
    "      while ((start_index < (len(training_text) - max_len - 1)) and (\n",
    "        training_text[start_index - 1] is not ' ')):\n",
    "        start_index += 1  # Advance to beginning of new word\n",
    "      prev_text = training_text[start_index: start_index + max_len]\n",
    "    \n",
    "    if len(prev_text) != max_len:\n",
    "      print(\"`prev_text` must be of length `max_len`.\")\n",
    "      return\n",
    "\n",
    "    print('GENERATING TEXT WITH SEED: \\n\"' + prev_text + '\"')\n",
    "    prev_text_arr = np.array(\n",
    "      [[char2index[c] for c in prev_text]], dtype=np.int64) \n",
    "    \n",
    "    for temp in temperatures:\n",
    "        print('==TEMPERATURE:', temp)\n",
    "        sys.stdout.write(prev_text)\n",
    "\n",
    "        # Start with the same sampled text for all temperatures\n",
    "        generated_text = prev_text \n",
    "        generated_text_arr = prev_text_arr\n",
    "\n",
    "        # Now generate this many characters\n",
    "        for i in range(num_generate):         \n",
    "            \n",
    "            # Get the output softmax given the conditioning text\n",
    "            #prev_text = generated_text_enc[np.newaxis,:]\n",
    "            preds = model.predict(generated_text_arr, verbose=0)[0]\n",
    "            \n",
    "            next_index = sample_with_temp(preds, temp)\n",
    "            next_char = index2char[next_index]\n",
    "            generated_text += next_char\n",
    "            generated_text = generated_text[1:]\n",
    "\n",
    "            # Left-shift and add into encoded array\n",
    "            generated_text_arr = shift_and_append(generated_text_arr, next_index)\n",
    "\n",
    "            sys.stdout.write(next_char)\n",
    "            sys.stdout.flush()\n",
    "        print()"
   ]
  },
  {
   "cell_type": "markdown",
   "metadata": {
    "colab_type": "text",
    "id": "a78CrsaMiKrA"
   },
   "source": [
    "###Train the model\n",
    "\n",
    "Let's train the model! The code below will train the model on a subset of the available data, and then generate from the model every `sample_every` number of batches.\n",
    "\n",
    "To generate from the model, we use `model.predict()` on a sequence of `max_len` conditioning characters to produce an output distribution over `vocab_size` characters. We then sample one character from this distribution and shift everything up by one and append the new characters. By repeating this, we can generate text from the (partially-trained) model.\n",
    "\n",
    "**NOTE**: \n",
    "* It takes a while to train a model that starts generating anything resembling the Shapespeare text! In general it should start getting the rough structure in place around the 100K training example mark (examples, not batches). But to generate any meaningful words will need several hundred thousand examples.\n",
    "* We sample with *temperature*. This is a way to sharpen or flatten the probabilities produced by the model. By lowering the temperature, we emphasize the modes of the predicted distribution, and by increasing the temperature, we flatten the modes (tends towards uniform)."
   ]
  },
  {
   "cell_type": "code",
   "execution_count": null,
   "metadata": {
    "colab": {},
    "colab_type": "code",
    "id": "0RcFKgkdPXuI"
   },
   "outputs": [],
   "source": [
    "batch_size = 128\n",
    "total_num_batches = X.shape[0] // batch_size\n",
    "sample_every = 256  # Train on this many batches, then generate something\n",
    "\n",
    "print(\"Training on {} batches in total.\".format(total_num_batches))\n",
    "\n",
    "for cur_batch in range(0, total_num_batches, sample_every):\n",
    "    print('TRAINING ON BATCH {} to {} (example {} to {})'.format(\n",
    "      cur_batch, cur_batch + sample_every,\n",
    "      cur_batch * batch_size, (cur_batch + sample_every) * batch_size)\n",
    "    )\n",
    "    \n",
    "    X_batch = X[batch_size * cur_batch : batch_size * (cur_batch + sample_every), :]\n",
    "    Y_batch = Y[batch_size * cur_batch : batch_size * (cur_batch + sample_every), :]\n",
    "    \n",
    "    '''\n",
    "    # Show the first 5 examples to make sure we're not training on garbage\n",
    "    print(\"X_batch.shape = {}\".format(X_batch.shape))\n",
    "    print(\"Y_batch.shape = {}\".format(Y_batch.shape))\n",
    "    print(\"FIRST 5 EXAMPLES:\")\n",
    "    for num in range(5):\n",
    "      in_seq = [index2char[int(indx)] for indx in np.nditer(X_batch[num, :])]\n",
    "      next_char = index2char[Y_batch[num, 0]]\n",
    "      print(str(num) + '. ' + ''.join(in_seq) + '-->' + next_char)\n",
    "    '''\n",
    "       \n",
    "    model.fit(X_batch, Y_batch,\n",
    "              batch_size=batch_size,\n",
    "              epochs=1,\n",
    "              verbose=1)\n",
    "\n",
    "    print(\"GENERATING SOME RANDOM TEXT FROM THE MODEL\")\n",
    "    sample_from_model(model)"
   ]
  },
  {
   "cell_type": "markdown",
   "metadata": {
    "colab_type": "text",
    "id": "w3C-AIU18HFe"
   },
   "source": [
    "**NOTE**: Even after training has stopped you can still generate from the (partially trained) model as follows:"
   ]
  },
  {
   "cell_type": "code",
   "execution_count": null,
   "metadata": {
    "colab": {
     "base_uri": "https://localhost:8080/",
     "height": 35
    },
    "colab_type": "code",
    "id": "7HR4JXD3ZnX0",
    "outputId": "82fbdad8-0586-4096-f5a1-7c1cc9bfcee4"
   },
   "outputs": [],
   "source": [
    "my_text = \"       the meaning of life is:\"  # Needs to be max_len characters\n",
    "print(len(my_text))\n",
    "sample_from_model(model, prev_text=my_text)"
   ]
  },
  {
   "cell_type": "markdown",
   "metadata": {
    "colab_type": "text",
    "id": "UbdLbn_xRe21"
   },
   "source": [
    "###IMPORTANT NOTES\n",
    "* Even if you stop training the model weights are persistant. If you resume training it will start where you left off. \n",
    "* To reset the weights, you need to recompile the model.\n",
    "* Sampling is **stochastic** (random), so you'll get new outputs every time you rerun the sampling code.\n",
    "\n",
    "### YOUR TASKS: \n",
    "* [**ALL**] Read the generations from your model in a funny voice to your neighbour.\n",
    "* [**ALL**] Increase `max_len` and regenerate the data and retrain the model.\n",
    " * What's the effect on training speed as you double `max_len`. Can you explain why?\n",
    " * Do you notice any effect on the quality of the model? Can you explain why?\n",
    "* [**ALL**] Change `embedding_dim` and the hidden size of the LSTM and observe the effect on training speed and quality.\n",
    "* [**INTERMEDIATE**] Add dropout to the model. What types of dropout do we get for recurrent models? What's the effect on the text quality?\n"
   ]
  }
 ],
 "metadata": {
  "colab": {
   "collapsed_sections": [
    "xiUrsPAI36M-"
   ],
   "name": "Practical 3: Recurrent Neural Networks",
   "provenance": [],
   "version": "0.3.2"
  },
  "kernelspec": {
   "display_name": "Python [conda env:indaba]",
   "language": "python",
   "name": "conda-env-indaba-py"
  },
  "language_info": {
   "codemirror_mode": {
    "name": "ipython",
    "version": 2
   },
   "file_extension": ".py",
   "mimetype": "text/x-python",
   "name": "python",
   "nbconvert_exporter": "python",
   "pygments_lexer": "ipython2",
   "version": "2.7.15"
  }
 },
 "nbformat": 4,
 "nbformat_minor": 1
}
